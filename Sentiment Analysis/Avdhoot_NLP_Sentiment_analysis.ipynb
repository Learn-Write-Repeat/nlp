{
 "cells": [
  {
   "cell_type": "markdown",
   "metadata": {
    "colab_type": "text",
    "id": "S6jS38oi1oGT"
   },
   "source": [
    "### SENTIMENT ANALYSIS USING NLP APPROACH TO DETECT SARCASM"
   ]
  },
  {
   "cell_type": "markdown",
   "metadata": {
    "colab_type": "text",
    "id": "5xnaspFA1-Zq"
   },
   "source": [
    "**Import all the required libraries.**"
   ]
  },
  {
   "cell_type": "code",
   "execution_count": 1,
   "metadata": {
    "colab": {},
    "colab_type": "code",
    "id": "krw_ztl-1mqp"
   },
   "outputs": [],
   "source": [
    "import tensorflow as tf\n",
    "from tensorflow import keras\n",
    "from tensorflow.keras.preprocessing.text import Tokenizer\n",
    "from tensorflow.keras.preprocessing.sequence import pad_sequences\n",
    "import json\n",
    "import numpy as np\n",
    "import matplotlib.pyplot as plt"
   ]
  },
  {
   "cell_type": "markdown",
   "metadata": {
    "colab_type": "text",
    "id": "F_cKehOu8Xgy"
   },
   "source": [
    "**Let's load the data**\n",
    "<br> You can download this dataset from this [kaggle link](https://www.kaggle.com/rmisra/news-headlines-dataset-for-sarcasm-detection) or the way I've done it here.\n",
    "<br>This dataset is in json file so we need to get the data out of it first before we proceed to sentiment analysis"
   ]
  },
  {
   "cell_type": "code",
   "execution_count": 2,
   "metadata": {
    "colab": {},
    "colab_type": "code",
    "id": "V-IEYuwG8Vuk"
   },
   "outputs": [],
   "source": [
    "#creating empty lists to store the data items from the dataset\n",
    "sentences = []\n",
    "labels = [] \n",
    "urls = []\n",
    "\n",
    "link = \"https://raw.githubusercontent.com/rishabhmisra/News-Headlines-Dataset-For-Sarcasm-Detection/master/Sarcasm_Headlines_Dataset.json\"\n",
    "#This function will yeild data from  the json file by reading through it\n",
    "def parse_data(link):\n",
    "    for l in open(link,'r'):\n",
    "        yield json.loads(l)\n",
    "\n",
    "#this line will parse the yeilded json data so that we can further use it to process\n",
    "data = parse_data('Sarcasm_Headlines_Dataset.json')\n",
    "\n",
    "#looping through the data parsed above and appending into the python arrays created\n",
    "for item in data:\n",
    "  sentences.append(item['headline'])\n",
    "  labels.append(item['is_sarcastic'])\n",
    "  urls.append(item['article_link'])"
   ]
  },
  {
   "cell_type": "code",
   "execution_count": 3,
   "metadata": {
    "colab": {},
    "colab_type": "code",
    "id": "pPphRgmz9JO2"
   },
   "outputs": [],
   "source": [
    "\n",
    "#defining the parameters for our model to build, in future if needed to change we can do it from here\n",
    "vocab_size = 10000\n",
    "embedding_dimension = 16\n",
    "max_length = 100\n",
    "trunc_type = 'post'\n",
    "padding_type = 'post'             \n",
    "oov_tok = '<OOV>'                  \n",
    "training_size = 20000\n",
    "\n",
    "#Training & Testing sentences\n",
    "training_sentences = sentences[0:training_size]\n",
    "testing_sentences = sentences[training_size:]\n",
    "\n",
    "#Training & Testing labels\n",
    "training_labels = labels[0:training_size]\n",
    "testing_labels = labels[training_size:]\n"
   ]
  },
  {
   "cell_type": "markdown",
   "metadata": {
    "colab_type": "text",
    "id": "i0DmFHFujFOL"
   },
   "source": [
    "# Pre-process the data for training a neural network"
   ]
  },
  {
   "cell_type": "markdown",
   "metadata": {
    "colab_type": "text",
    "id": "r_cRGFGZ2dLA"
   },
   "source": [
    "\n",
    "\n",
    "In this we step of pre-processing we do these steps:-\n",
    "- **Tokenize** the text. [**Tokenizer class** allows to vectorize a text corpus, by turning each text into either a sequence of integers (each integer being the index of a token in a dictionary) or into a vector where the coefficient for each token could be binary, based on word count]<br>\n",
    "- Then use **fit_on_texts** function to fit the vocabulary size of the training sentences\n",
    "- Then create **sequences** of the tokens created in the previous step and outputs a python array of numberes with sequences of the tokens that represent the sentence numnerically in our defined way.\n",
    "- Then **pad** the sequences with zeros incase any sequence is short, as it may happen because all sentences are not of the same size.\n"
   ]
  },
  {
   "cell_type": "code",
   "execution_count": 4,
   "metadata": {
    "colab": {},
    "colab_type": "code",
    "id": "3u8UB0MCkZ5N"
   },
   "outputs": [],
   "source": [
    " # OOV tokens are the out-of-vocabulary words which could be encountered during tokenization\n",
    "tokenizer = Tokenizer(num_words=vocab_size, oov_token=oov_tok)  \n",
    "\n",
    "#this will fit the text with num_words on input sentences\n",
    "tokenizer.fit_on_texts(training_sentences)\n",
    "\n",
    "#this will create a word index dictionary of indexing of tokens.\n",
    "word_index = tokenizer.word_index\n",
    "\n",
    "#this creates sequences of tokens and outputs a python array with sequences of tokens repersenting the sentence\n",
    "training_sequences = tokenizer.texts_to_sequences(training_sentences)\n",
    "\n",
    "#this will padd the sequences with zero who has a short sequences\n",
    "training_padded = pad_sequences(training_sequences, maxlen=max_length, padding=padding_type, truncating=trunc_type)  \n",
    "\n",
    "\n",
    "#this creates sequences of tokens and outputs a python array with sequences of tokens repersenting the sentence\n",
    "testing_sequences = tokenizer.texts_to_sequences(testing_sentences)\n",
    "\n",
    "#this will padd the sequences with zero who has a short sequences\n",
    "testing_padded = pad_sequences(testing_sequences, maxlen=max_length, padding=padding_type, truncating=trunc_type)"
   ]
  },
  {
   "cell_type": "markdown",
   "metadata": {
    "colab_type": "text",
    "id": "e3OyTpWbkkv8"
   },
   "source": [
    "Next step of pre-processing is the final step in this we just convert the test & train sequences to numpy array in order to feede them to our neural network."
   ]
  },
  {
   "cell_type": "code",
   "execution_count": 5,
   "metadata": {
    "colab": {},
    "colab_type": "code",
    "id": "PDMScpcLGE_p"
   },
   "outputs": [],
   "source": [
    "training_padded = np.array(training_padded)\n",
    "training_labels = np.array(training_labels)\n",
    "testing_padded = np.array(testing_padded)\n",
    "testing_labels = np.array(testing_labels)"
   ]
  },
  {
   "cell_type": "markdown",
   "metadata": {
    "colab_type": "text",
    "id": "7D0-p8TJjcgA"
   },
   "source": [
    "# Build the model"
   ]
  },
  {
   "cell_type": "markdown",
   "metadata": {
    "colab_type": "text",
    "id": "9sU0fp3DnvNF"
   },
   "source": [
    "Building a neural network is the most interesting thing and also boring at the same time. \n",
    "In this we will use the layers as follows:\n",
    "- **Embedding layer:** Turns positive integers (indexes) into dense vectors of fixed size.\n",
    "e.g. [[4], [20]] -> [[0.25, 0.1], [0.6, -0.2]].\n",
    "This layer can only be used as the first layer in a model.\n",
    "- **GlobalAveragePooling1D**\n",
    "- **Dense layer:** Just your regular densely-connected NN layer.Ie've used 24 units here, you can play around by trying to add more dense layers\n",
    "Dense implements the operation: output = activation(dot(input, kernel) + bias) where activation is the element-wise activation function passed as the activation argument, kernel is a weights matrix created by the layer, and bias is a bias vector created by the layer (only applicable if use_bias is True).\n",
    "- **Dense layer** - This is a final layer with only one unit as it is the ouput layer of the entire neural network and here we've used sigmoid activation function as sigmiod function gives better realistic values than relu  between 0 to 1."
   ]
  },
  {
   "cell_type": "code",
   "execution_count": 6,
   "metadata": {
    "colab": {},
    "colab_type": "code",
    "id": "JOCYsXMGGVrk"
   },
   "outputs": [],
   "source": [
    "model = tf.keras.Sequential([\n",
    "                             tf.keras.layers.Embedding(vocab_size,embedding_dimension,\n",
    "                                                       input_length=max_length),\n",
    "                             tf.keras.layers.GlobalAveragePooling1D(),\n",
    "                             tf.keras.layers.Dense(24,activation='relu'),\n",
    "                             tf.keras.layers.Dense(1,activation='sigmoid')\n",
    "])\n",
    "model.compile(loss='binary_crossentropy',optimizer='adam',metrics=['accuracy'])"
   ]
  },
  {
   "cell_type": "code",
   "execution_count": 7,
   "metadata": {
    "colab": {
     "base_uri": "https://localhost:8080/",
     "height": 289
    },
    "colab_type": "code",
    "id": "QmuhGv-YG5Ws",
    "outputId": "ec5f311e-1ac2-4e16-e652-f414b14f1653"
   },
   "outputs": [
    {
     "name": "stdout",
     "output_type": "stream",
     "text": [
      "Model: \"sequential\"\n",
      "_________________________________________________________________\n",
      "Layer (type)                 Output Shape              Param #   \n",
      "=================================================================\n",
      "embedding (Embedding)        (None, 100, 16)           160000    \n",
      "_________________________________________________________________\n",
      "global_average_pooling1d (Gl (None, 16)                0         \n",
      "_________________________________________________________________\n",
      "dense (Dense)                (None, 24)                408       \n",
      "_________________________________________________________________\n",
      "dense_1 (Dense)              (None, 1)                 25        \n",
      "=================================================================\n",
      "Total params: 160,433\n",
      "Trainable params: 160,433\n",
      "Non-trainable params: 0\n",
      "_________________________________________________________________\n"
     ]
    }
   ],
   "source": [
    "model.summary()"
   ]
  },
  {
   "cell_type": "markdown",
   "metadata": {
    "colab_type": "text",
    "id": "5Bs2VZr4jtwg"
   },
   "source": [
    "# Train the model"
   ]
  },
  {
   "cell_type": "markdown",
   "metadata": {
    "colab_type": "text",
    "id": "8odj4D8tth5M"
   },
   "source": [
    "Training your model will finally make the neural network work in action and after training we can then use it to predict new unseen values.<br>\n",
    "**This is how the basic neural network computation works**\n",
    "- Take input\n",
    "- Forwarad propogate\n",
    "- Predict values\n",
    "- Calculate loss/error\n",
    "- Back Propogate\n",
    "\n",
    "<img src = \"https://miro.medium.com/proxy/1*mTTmfdMcFlPtyu8__vRHOQ.gif\" height=400 width =600>"
   ]
  },
  {
   "cell_type": "code",
   "execution_count": 8,
   "metadata": {
    "colab": {
     "base_uri": "https://localhost:8080/",
     "height": 1000
    },
    "colab_type": "code",
    "id": "cWtcKYguKpvG",
    "outputId": "e0adbdde-a8c0-4959-df22-ed54f908b64c"
   },
   "outputs": [
    {
     "name": "stdout",
     "output_type": "stream",
     "text": [
      "Epoch 1/30\n",
      "625/625 - 5s - loss: 0.6567 - accuracy: 0.6058 - val_loss: 0.5546 - val_accuracy: 0.8109\n",
      "Epoch 2/30\n",
      "625/625 - 5s - loss: 0.4142 - accuracy: 0.8397 - val_loss: 0.3828 - val_accuracy: 0.8375\n",
      "Epoch 3/30\n",
      "625/625 - 5s - loss: 0.3041 - accuracy: 0.8788 - val_loss: 0.3507 - val_accuracy: 0.8536\n",
      "Epoch 4/30\n",
      "625/625 - 5s - loss: 0.2542 - accuracy: 0.9003 - val_loss: 0.3542 - val_accuracy: 0.8474\n",
      "Epoch 5/30\n",
      "625/625 - 5s - loss: 0.2179 - accuracy: 0.9175 - val_loss: 0.3438 - val_accuracy: 0.8556\n",
      "Epoch 6/30\n",
      "625/625 - 5s - loss: 0.1929 - accuracy: 0.9262 - val_loss: 0.3537 - val_accuracy: 0.8566\n",
      "Epoch 7/30\n",
      "625/625 - 5s - loss: 0.1702 - accuracy: 0.9366 - val_loss: 0.3842 - val_accuracy: 0.8441\n",
      "Epoch 8/30\n",
      "625/625 - 5s - loss: 0.1527 - accuracy: 0.9449 - val_loss: 0.3818 - val_accuracy: 0.8530\n",
      "Epoch 9/30\n",
      "625/625 - 5s - loss: 0.1360 - accuracy: 0.9522 - val_loss: 0.4062 - val_accuracy: 0.8496\n",
      "Epoch 10/30\n",
      "625/625 - 5s - loss: 0.1246 - accuracy: 0.9561 - val_loss: 0.4243 - val_accuracy: 0.8489\n",
      "Epoch 11/30\n",
      "625/625 - 5s - loss: 0.1131 - accuracy: 0.9612 - val_loss: 0.4530 - val_accuracy: 0.8439\n",
      "Epoch 12/30\n",
      "625/625 - 5s - loss: 0.1019 - accuracy: 0.9657 - val_loss: 0.4747 - val_accuracy: 0.8447\n",
      "Epoch 13/30\n",
      "625/625 - 5s - loss: 0.0939 - accuracy: 0.9678 - val_loss: 0.5070 - val_accuracy: 0.8395\n",
      "Epoch 14/30\n",
      "625/625 - 5s - loss: 0.0873 - accuracy: 0.9707 - val_loss: 0.5266 - val_accuracy: 0.8389\n",
      "Epoch 15/30\n",
      "625/625 - 5s - loss: 0.0776 - accuracy: 0.9740 - val_loss: 0.5595 - val_accuracy: 0.8377\n",
      "Epoch 16/30\n",
      "625/625 - 5s - loss: 0.0724 - accuracy: 0.9771 - val_loss: 0.5946 - val_accuracy: 0.8353\n",
      "Epoch 17/30\n",
      "625/625 - 5s - loss: 0.0663 - accuracy: 0.9783 - val_loss: 0.6415 - val_accuracy: 0.8295\n",
      "Epoch 18/30\n",
      "625/625 - 5s - loss: 0.0596 - accuracy: 0.9808 - val_loss: 0.6568 - val_accuracy: 0.8292\n",
      "Epoch 19/30\n",
      "625/625 - 5s - loss: 0.0561 - accuracy: 0.9825 - val_loss: 0.7172 - val_accuracy: 0.8253\n",
      "Epoch 20/30\n",
      "625/625 - 6s - loss: 0.0519 - accuracy: 0.9840 - val_loss: 0.7327 - val_accuracy: 0.8277\n",
      "Epoch 21/30\n",
      "625/625 - 5s - loss: 0.0474 - accuracy: 0.9860 - val_loss: 0.7630 - val_accuracy: 0.8253\n",
      "Epoch 22/30\n",
      "625/625 - 5s - loss: 0.0447 - accuracy: 0.9857 - val_loss: 0.8062 - val_accuracy: 0.8234\n",
      "Epoch 23/30\n",
      "625/625 - 5s - loss: 0.0409 - accuracy: 0.9877 - val_loss: 0.8457 - val_accuracy: 0.8198\n",
      "Epoch 24/30\n",
      "625/625 - 4s - loss: 0.0366 - accuracy: 0.9890 - val_loss: 0.9536 - val_accuracy: 0.8152\n",
      "Epoch 25/30\n",
      "625/625 - 5s - loss: 0.0330 - accuracy: 0.9905 - val_loss: 0.9195 - val_accuracy: 0.8170\n",
      "Epoch 26/30\n",
      "625/625 - 5s - loss: 0.0314 - accuracy: 0.9908 - val_loss: 0.9511 - val_accuracy: 0.8158\n",
      "Epoch 27/30\n",
      "625/625 - 5s - loss: 0.0300 - accuracy: 0.9912 - val_loss: 0.9837 - val_accuracy: 0.8183\n",
      "Epoch 28/30\n",
      "625/625 - 5s - loss: 0.0278 - accuracy: 0.9923 - val_loss: 1.0194 - val_accuracy: 0.8131\n",
      "Epoch 29/30\n",
      "625/625 - 5s - loss: 0.0238 - accuracy: 0.9937 - val_loss: 1.0628 - val_accuracy: 0.8110\n",
      "Epoch 30/30\n",
      "625/625 - 5s - loss: 0.0239 - accuracy: 0.9933 - val_loss: 1.1267 - val_accuracy: 0.8137\n"
     ]
    }
   ],
   "source": [
    "history = model.fit(training_padded, training_labels, epochs = 30,validation_data=(testing_padded,testing_labels),verbose=2)"
   ]
  },
  {
   "cell_type": "markdown",
   "metadata": {
    "colab_type": "text",
    "id": "AWPCPRL_jzUp"
   },
   "source": [
    "# Evaluate the model\n",
    "Evaluating the model is the important step as it allows us to better the model and tune some hyperparameters and pump up the accuracy. There also some things to keep in mind while tuning your projects like for example **not overfitting** the dataset to pump up the accuracy on testing set, **not underfitting** the dataset too is an important and there are some other metrics to keep in my mind."
   ]
  },
  {
   "cell_type": "markdown",
   "metadata": {
    "colab_type": "text",
    "id": "IEDbGraHw4z1"
   },
   "source": [
    "Here since the model is pretty easy we've got 0.9984 accuracy on the training data and around 80% accuracy on the test data which is the reakky good and almost as perfect and it means that our model can predict correctly 99%. "
   ]
  },
  {
   "cell_type": "markdown",
   "metadata": {
    "colab_type": "text",
    "id": "cJzbSj8vxa2L"
   },
   "source": [
    "Below are the graphs:\n",
    "<br>\n",
    "- First graphs shows the training set accuracy and  what is the validation sete accuracy.<br>\n",
    "- Second graph shows the loss function's values and what was the validation loss.\n",
    "\n",
    "\n",
    "\n",
    "\n"
   ]
  },
  {
   "cell_type": "code",
   "execution_count": 9,
   "metadata": {
    "colab": {
     "base_uri": "https://localhost:8080/",
     "height": 541
    },
    "colab_type": "code",
    "id": "2RqNOeo8HAue",
    "outputId": "6798d2ae-9121-4aee-9ec6-ef66591ef214"
   },
   "outputs": [
    {
     "data": {
      "image/png": "[encoded data removed]",
      "text/plain": [
       "<Figure size 432x288 with 1 Axes>"
      ]
     },
     "metadata": {
      "needs_background": "light"
     },
     "output_type": "display_data"
    },
    {
     "data": {
      "image/png": "[encoded data removed]",
      "text/plain": [
       "<Figure size 432x288 with 1 Axes>"
      ]
     },
     "metadata": {
      "needs_background": "light"
     },
     "output_type": "display_data"
    }
   ],
   "source": [
    "def plot_graphs(history, string):\n",
    "  plt.plot(history.history[string])\n",
    "  plt.plot(history.history['val_'+string])\n",
    "  plt.xlabel(\"Epochs\")\n",
    "  plt.ylabel(string)\n",
    "  plt.legend([string,'val_'+string])\n",
    "  plt.show()\n",
    "\n",
    "plot_graphs(history,'accuracy')\n",
    "plot_graphs(history,'loss')"
   ]
  },
  {
   "cell_type": "code",
   "execution_count": 12,
   "metadata": {
    "colab": {
     "base_uri": "https://localhost:8080/",
     "height": 68
    },
    "colab_type": "code",
    "id": "vWrMfuq7K8ws",
    "outputId": "4f54230e-8ac7-409b-e957-27c777fc1c58"
   },
   "outputs": [
    {
     "name": "stdout",
     "output_type": "stream",
     "text": [
      "[[8.5624121e-09]\n",
      " [4.4034375e-03]\n",
      " [8.4588701e-06]]\n"
     ]
    }
   ],
   "source": [
    "sentences_to_predict = [ \"If stupidity was a profession then you’d be a billionaire.\",\n",
    "                        \"Don’t talk while I am interrupting!\",\n",
    "                        \"Today is bright and sunny day\"\n",
    "       \n",
    "]\n",
    "\n",
    "seq = tokenizer.texts_to_sequences(sentences_to_predict)\n",
    "\n",
    "pad = pad_sequences(seq,maxlen=max_length,padding=padding_type,\n",
    "                    truncating = trunc_type)\n",
    "print(model.predict(pad))\n"
   ]
  },
  {
   "cell_type": "markdown",
   "metadata": {
    "colab_type": "text",
    "id": "rv2BJuhF5nr-"
   },
   "source": [
    "As you can see here the three sentences differing from not a sarcastic one to sarcastic to most sarcastic the output gets higher and closer to 1 which is sarcastic sentence and the sentences that are just plain text are with values almost equal to 0 or near to 0.<br><br>\n",
    "We can from here save the model and create a system(GUI) if we want to make an interactive project.\n",
    "That's all, Thank you for staying and making it this far.<br>"
   ]
  },
  {
   "cell_type": "code",
   "execution_count": null,
   "metadata": {
    "colab": {},
    "colab_type": "code",
    "id": "1LtWv5BD_AgO"
   },
   "outputs": [],
   "source": []
  }
 ],
 "metadata": {
  "colab": {
   "collapsed_sections": [],
   "name": "Avdhoot_NLP_Sentiment_analysis.ipynb",
   "provenance": []
  },
  "kernelspec": {
   "display_name": "Python 3",
   "language": "python",
   "name": "python3"
  },
  "language_info": {
   "codemirror_mode": {
    "name": "ipython",
    "version": 3
   },
   "file_extension": ".py",
   "mimetype": "text/x-python",
   "name": "python",
   "nbconvert_exporter": "python",
   "pygments_lexer": "ipython3",
   "version": "3.8.1"
  }
 },
 "nbformat": 4,
 "nbformat_minor": 1
}
